{
 "cells": [
  {
   "cell_type": "markdown",
   "id": "86a97be1",
   "metadata": {},
   "source": [
    "# Node Centrality Analysis\n",
    "\n",
    "Notebook playground to analyze node centrality of Wikipedia article links using different notions of centrality (e.g. degree centrality, betweenness centrality, eigenvector centrality etc.)."
   ]
  },
  {
   "cell_type": "code",
   "execution_count": 1,
   "id": "db78cef4",
   "metadata": {},
   "outputs": [],
   "source": [
    "import networkx as nx"
   ]
  },
  {
   "cell_type": "code",
   "execution_count": 2,
   "id": "fe563a3a",
   "metadata": {},
   "outputs": [],
   "source": [
    "graphml_file = \"../data/combined_wikilink_test.graphml\"\n",
    "\n",
    "G = nx.read_graphml(graphml_file)\n",
    "G = G.to_directed()"
   ]
  },
  {
   "cell_type": "code",
   "execution_count": 3,
   "id": "e908e198",
   "metadata": {},
   "outputs": [],
   "source": [
    "TOP_NUM_NODES = 10"
   ]
  },
  {
   "cell_type": "markdown",
   "id": "5cad8410",
   "metadata": {},
   "source": [
    "### Degree Centrality"
   ]
  },
  {
   "cell_type": "code",
   "execution_count": 4,
   "id": "a8c7463b",
   "metadata": {},
   "outputs": [],
   "source": [
    "degree_centrality = nx.degree_centrality(G)\n",
    "top_degree_central_nodes = sorted(degree_centrality.items(), key=lambda x: x[1], reverse=True)[:TOP_NUM_NODES]"
   ]
  },
  {
   "cell_type": "code",
   "execution_count": 5,
   "id": "6219672f",
   "metadata": {},
   "outputs": [
    {
     "name": "stdout",
     "output_type": "stream",
     "text": [
      "Top 10 Nodes by Degree Centrality:\n",
      "\n",
      "Academy Award for Best Production Design: 0.0182\n",
      "Albania: 0.0149\n",
      "August 15: 0.0118\n",
      "Afghanistan: 0.0112\n",
      "August 1: 0.0110\n",
      "April 6: 0.0108\n",
      "Azerbaijan: 0.0108\n",
      "April 13: 0.0106\n",
      "Alabama: 0.0105\n",
      "April 16: 0.0103\n"
     ]
    }
   ],
   "source": [
    "print(f\"Top {TOP_NUM_NODES} Nodes by Degree Centrality:\\n\")\n",
    "for node_id, centrality in top_degree_central_nodes:\n",
    "    label = G.nodes[node_id].get(\"title\")\n",
    "    print(f\"{label}: {centrality:.4f}\")"
   ]
  },
  {
   "cell_type": "markdown",
   "id": "7bbdcce6",
   "metadata": {},
   "source": [
    "### Betweeness Centrality"
   ]
  },
  {
   "cell_type": "code",
   "execution_count": 6,
   "id": "0c5abd60",
   "metadata": {},
   "outputs": [],
   "source": [
    "betweenness_centrality = nx.betweenness_centrality(G)\n",
    "top_between_central_nodes = sorted(betweenness_centrality.items(), key=lambda x: x[1], reverse=True)[:TOP_NUM_NODES]"
   ]
  },
  {
   "cell_type": "code",
   "execution_count": 7,
   "id": "1ceb2897",
   "metadata": {},
   "outputs": [
    {
     "name": "stdout",
     "output_type": "stream",
     "text": [
      "Top 10 Nodes by Betweeness Centrality:\n",
      "\n",
      "Apollo: 0.0005\n",
      "Aristotle: 0.0005\n",
      "Alexander the Great: 0.0004\n",
      "Animism: 0.0003\n",
      "Arabic: 0.0003\n",
      "Alan Turing: 0.0003\n",
      "Agriculture: 0.0003\n",
      "American Civil War: 0.0003\n",
      "Alan Garner: 0.0003\n",
      "Agnosticism: 0.0003\n"
     ]
    }
   ],
   "source": [
    "print(f\"Top {TOP_NUM_NODES} Nodes by Betweeness Centrality:\\n\")\n",
    "for node_id, centrality in top_between_central_nodes:\n",
    "    label = G.nodes[node_id].get(\"title\")\n",
    "    print(f\"{label}: {centrality:.4f}\")"
   ]
  },
  {
   "cell_type": "markdown",
   "id": "79e391ac",
   "metadata": {},
   "source": [
    "### Closeness Centrality"
   ]
  },
  {
   "cell_type": "code",
   "execution_count": 8,
   "id": "cdcd6361",
   "metadata": {},
   "outputs": [],
   "source": [
    "closeness_centrality = nx.closeness_centrality(G)\n",
    "top_close_central_nodes = sorted(closeness_centrality.items(), key=lambda x: x[1], reverse=True)[:TOP_NUM_NODES]"
   ]
  },
  {
   "cell_type": "code",
   "execution_count": 9,
   "id": "f9ec0c11",
   "metadata": {},
   "outputs": [
    {
     "name": "stdout",
     "output_type": "stream",
     "text": [
      "Top 10 Nodes by Closeness Centrality:\n",
      "\n",
      "Latin: 0.0018\n",
      "World War II: 0.0017\n",
      "Oxford University Press: 0.0017\n",
      "Greek language: 0.0016\n",
      "United States: 0.0016\n",
      "Ancient Greece: 0.0016\n",
      "India: 0.0015\n",
      "Middle Ages: 0.0015\n",
      "Europe: 0.0015\n",
      "Catholic Church: 0.0015\n"
     ]
    }
   ],
   "source": [
    "print(f\"Top {TOP_NUM_NODES} Nodes by Closeness Centrality:\\n\")\n",
    "for node_id, centrality in top_close_central_nodes:\n",
    "    label = G.nodes[node_id].get(\"title\")\n",
    "    print(f\"{label}: {centrality:.4f}\")"
   ]
  },
  {
   "cell_type": "markdown",
   "id": "2d2b3ca0",
   "metadata": {},
   "source": [
    "### Eigenvector Centrality"
   ]
  },
  {
   "cell_type": "code",
   "execution_count": 10,
   "id": "0f11a245",
   "metadata": {},
   "outputs": [],
   "source": [
    "eigenvector_centrality = nx.eigenvector_centrality(G)\n",
    "top_eigenvector_central_nodes = sorted(eigenvector_centrality.items(), key=lambda x: x[1], reverse=True)[:TOP_NUM_NODES]"
   ]
  },
  {
   "cell_type": "code",
   "execution_count": 11,
   "id": "975d8b6f",
   "metadata": {},
   "outputs": [
    {
     "name": "stdout",
     "output_type": "stream",
     "text": [
      "Top 10 Nodes by Eigenvector Centrality:\n",
      "\n",
      "Plato: 0.0918\n",
      "Homer: 0.0851\n",
      "Alexander the Great: 0.0770\n",
      "Achaemenid Empire: 0.0754\n",
      "Sparta: 0.0753\n",
      "Troy: 0.0750\n",
      "Athens: 0.0746\n",
      "Iliad: 0.0733\n",
      "Apollo: 0.0690\n",
      "Greek language: 0.0687\n"
     ]
    }
   ],
   "source": [
    "print(f\"Top {TOP_NUM_NODES} Nodes by Eigenvector Centrality:\\n\")\n",
    "for node_id, centrality in top_eigenvector_central_nodes:\n",
    "    label = G.nodes[node_id].get(\"title\")\n",
    "    print(f\"{label}: {centrality:.4f}\")"
   ]
  }
 ],
 "metadata": {
  "kernelspec": {
   "display_name": "Python 3 (ipykernel)",
   "language": "python",
   "name": "python3"
  },
  "language_info": {
   "codemirror_mode": {
    "name": "ipython",
    "version": 3
   },
   "file_extension": ".py",
   "mimetype": "text/x-python",
   "name": "python",
   "nbconvert_exporter": "python",
   "pygments_lexer": "ipython3",
   "version": "3.11.4"
  }
 },
 "nbformat": 4,
 "nbformat_minor": 5
}
