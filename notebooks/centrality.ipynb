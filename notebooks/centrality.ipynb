{
 "cells": [
  {
   "cell_type": "markdown",
   "id": "86a97be1",
   "metadata": {},
   "source": [
    "# Node Centrality Analysis\n",
    "\n",
    "Notebook playground to analyze node centrality of Wikipedia article links using different notions of centrality (e.g. degree centrality, betweenness centrality, eigenvector centrality etc.)."
   ]
  },
  {
   "cell_type": "code",
   "execution_count": 1,
   "id": "db78cef4",
   "metadata": {},
   "outputs": [],
   "source": [
    "import networkx as nx"
   ]
  },
  {
   "cell_type": "code",
   "execution_count": 2,
   "id": "fe563a3a",
   "metadata": {},
   "outputs": [],
   "source": [
    "graphml_file = \"../data/combined_wikilink.graphml\"\n",
    "\n",
    "G = nx.read_graphml(graphml_file)\n",
    "G = G.to_directed()"
   ]
  },
  {
   "cell_type": "code",
   "execution_count": null,
   "id": "e908e198",
   "metadata": {},
   "outputs": [],
   "source": [
    "TOP_NUM_NODES = 10"
   ]
  },
  {
   "cell_type": "markdown",
   "id": "5cad8410",
   "metadata": {},
   "source": [
    "### Degree Centrality"
   ]
  },
  {
   "cell_type": "code",
   "execution_count": 3,
   "id": "a8c7463b",
   "metadata": {},
   "outputs": [
    {
     "ename": "NameError",
     "evalue": "name 'TOP_NUM_NODES' is not defined",
     "output_type": "error",
     "traceback": [
      "\u001b[0;31m---------------------------------------------------------------------------\u001b[0m",
      "\u001b[0;31mNameError\u001b[0m                                 Traceback (most recent call last)",
      "Cell \u001b[0;32mIn[3], line 2\u001b[0m\n\u001b[1;32m      1\u001b[0m degree_centrality \u001b[38;5;241m=\u001b[39m nx\u001b[38;5;241m.\u001b[39mdegree_centrality(G)\n\u001b[0;32m----> 2\u001b[0m top_degree_central_nodes \u001b[38;5;241m=\u001b[39m \u001b[38;5;28msorted\u001b[39m(degree_centrality\u001b[38;5;241m.\u001b[39mitems(), key\u001b[38;5;241m=\u001b[39m\u001b[38;5;28;01mlambda\u001b[39;00m x: x[\u001b[38;5;241m1\u001b[39m], reverse\u001b[38;5;241m=\u001b[39m\u001b[38;5;28;01mTrue\u001b[39;00m)[:TOP_NUM_NODES]\n",
      "\u001b[0;31mNameError\u001b[0m: name 'TOP_NUM_NODES' is not defined"
     ]
    }
   ],
   "source": [
    "degree_centrality = nx.degree_centrality(G)\n",
    "top_degree_central_nodes = sorted(degree_centrality.items(), key=lambda x: x[1], reverse=True)[:TOP_NUM_NODES]"
   ]
  },
  {
   "cell_type": "code",
   "execution_count": null,
   "id": "6219672f",
   "metadata": {},
   "outputs": [],
   "source": [
    "print(f\"Top {TOP_NUM_NODES} Nodes by Degree Centrality:\\n\")\n",
    "for node_id, centrality in top_degree_central_nodes:\n",
    "    label = G.nodes[node_id].get(\"title\")\n",
    "    print(f\"{label}: {centrality:.4f}\")"
   ]
  },
  {
   "cell_type": "markdown",
   "id": "7bbdcce6",
   "metadata": {},
   "source": [
    "### Betweeness Centrality"
   ]
  },
  {
   "cell_type": "code",
   "execution_count": null,
   "id": "0c5abd60",
   "metadata": {},
   "outputs": [],
   "source": [
    "betweenness_centrality = nx.betweenness_centrality(G)\n",
    "top_between_central_nodes = sorted(betweenness_centrality.items(), key=lambda x: x[1], reverse=True)[:TOP_NUM_NODES]"
   ]
  },
  {
   "cell_type": "code",
   "execution_count": null,
   "id": "1ceb2897",
   "metadata": {},
   "outputs": [],
   "source": [
    "print(f\"Top {TOP_NUM_NODES} Nodes by Betweeness Centrality:\\n\")\n",
    "for node_id, centrality in top_between_central_nodes:\n",
    "    label = G.nodes[node_id].get(\"title\")\n",
    "    print(f\"{label}: {centrality:.4f}\")"
   ]
  },
  {
   "cell_type": "markdown",
   "id": "79e391ac",
   "metadata": {},
   "source": [
    "### Closeness Centrality"
   ]
  },
  {
   "cell_type": "code",
   "execution_count": null,
   "id": "cdcd6361",
   "metadata": {},
   "outputs": [],
   "source": [
    "closeness_centrality = nx.closeness_centrality(G)\n",
    "top_close_central_nodes = sorted(closeness_centrality.items(), key=lambda x: x[1], reverse=True)[:TOP_NUM_NODES]"
   ]
  },
  {
   "cell_type": "code",
   "execution_count": null,
   "id": "f9ec0c11",
   "metadata": {},
   "outputs": [],
   "source": [
    "print(f\"Top {TOP_NUM_NODES} Nodes by Closeness Centrality:\\n\")\n",
    "for node_id, centrality in top_close_central_nodes:\n",
    "    label = G.nodes[node_id].get(\"title\")\n",
    "    print(f\"{label}: {centrality:.4f}\")"
   ]
  },
  {
   "cell_type": "markdown",
   "id": "2d2b3ca0",
   "metadata": {},
   "source": [
    "### Eigenvector Centrality"
   ]
  },
  {
   "cell_type": "code",
   "execution_count": null,
   "id": "0f11a245",
   "metadata": {},
   "outputs": [],
   "source": [
    "eigenvector_centrality = nx.eigenvector_centrality(G)\n",
    "top_eigenvector_central_nodes = sorted(eigenvector_centrality.items(), key=lambda x: x[1], reverse=True)[:TOP_NUM_NODES]"
   ]
  },
  {
   "cell_type": "code",
   "execution_count": null,
   "id": "975d8b6f",
   "metadata": {},
   "outputs": [],
   "source": [
    "print(f\"Top {TOP_NUM_NODES} Nodes by Eigenvector Centrality:\\n\")\n",
    "for node_id, centrality in top_eigenvector_central_nodes:\n",
    "    label = G.nodes[node_id].get(\"title\")\n",
    "    print(f\"{label}: {centrality:.4f}\")"
   ]
  }
 ],
 "metadata": {
  "kernelspec": {
   "display_name": "Python 3 (ipykernel)",
   "language": "python",
   "name": "python3"
  },
  "language_info": {
   "codemirror_mode": {
    "name": "ipython",
    "version": 3
   },
   "file_extension": ".py",
   "mimetype": "text/x-python",
   "name": "python",
   "nbconvert_exporter": "python",
   "pygments_lexer": "ipython3",
   "version": "3.11.4"
  }
 },
 "nbformat": 4,
 "nbformat_minor": 5
}
