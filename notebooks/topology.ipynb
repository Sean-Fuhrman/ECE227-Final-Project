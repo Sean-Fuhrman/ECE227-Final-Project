{
 "cells": [
  {
   "cell_type": "markdown",
   "id": "bd3d2fdd",
   "metadata": {},
   "source": [
    "# Basic Topology\n",
    "\n",
    "Notebook playground to analyze basic topology of Wikipedia article links graph."
   ]
  },
  {
   "cell_type": "code",
   "execution_count": 1,
   "id": "db78cef4",
   "metadata": {},
   "outputs": [],
   "source": [
    "import networkx as nx"
   ]
  },
  {
   "cell_type": "code",
   "execution_count": 2,
   "id": "fe563a3a",
   "metadata": {},
   "outputs": [],
   "source": [
    "graphml_file = \"data/combined_wikilink_graph.graphml\"\n",
    "\n",
    "G = nx.read_graphml(graphml_file)\n",
    "G = G.to_directed()"
   ]
  },
  {
   "cell_type": "code",
   "execution_count": null,
   "id": "a8c7463b",
   "metadata": {},
   "outputs": [],
   "source": []
  }
 ],
 "metadata": {
  "kernelspec": {
   "display_name": "Python 3 (ipykernel)",
   "language": "python",
   "name": "python3"
  },
  "language_info": {
   "codemirror_mode": {
    "name": "ipython",
    "version": 3
   },
   "file_extension": ".py",
   "mimetype": "text/x-python",
   "name": "python",
   "nbconvert_exporter": "python",
   "pygments_lexer": "ipython3",
   "version": "3.11.4"
  }
 },
 "nbformat": 4,
 "nbformat_minor": 5
}
