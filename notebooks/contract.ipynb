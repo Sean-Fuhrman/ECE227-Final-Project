{
 "cells": [
  {
   "cell_type": "markdown",
   "id": "79bda096",
   "metadata": {},
   "source": [
    "# Contract\n",
    "\n",
    "Notebook playground to merge/contract smaller degree nodes to create a more manageable graph dataset."
   ]
  },
  {
   "cell_type": "code",
   "execution_count": 1,
   "id": "db78cef4",
   "metadata": {},
   "outputs": [],
   "source": [
    "import networkx as nx"
   ]
  },
  {
   "cell_type": "code",
   "execution_count": 2,
   "id": "fe563a3a",
   "metadata": {},
   "outputs": [],
   "source": [
    "graphml_file = \"../data/combined_wikilink.graphml\"\n",
    "\n",
    "G = nx.read_graphml(graphml_file)\n",
    "G = G.to_directed()"
   ]
  },
  {
   "cell_type": "markdown",
   "id": "14f2d3e9",
   "metadata": {},
   "source": [
    "### Number of Nodes and Edges"
   ]
  },
  {
   "cell_type": "code",
   "execution_count": 3,
   "id": "25ee60ab",
   "metadata": {},
   "outputs": [
    {
     "name": "stdout",
     "output_type": "stream",
     "text": [
      "Number of nodes: 1075674\n",
      "Number of edges: 3500000\n"
     ]
    }
   ],
   "source": [
    "num_nodes = G.number_of_nodes()\n",
    "num_edges = G.number_of_edges()\n",
    "\n",
    "print(f\"Number of nodes: {num_nodes}\")\n",
    "print(f\"Number of edges: {num_edges}\")"
   ]
  },
  {
   "cell_type": "markdown",
   "id": "540faff5",
   "metadata": {},
   "source": [
    "### Contraction\n",
    "\n",
    "Search for all smaller degree nodes (within 10% less of the average degree) and merge them with their larger parent."
   ]
  },
  {
   "cell_type": "code",
   "execution_count": 4,
   "id": "5c6bcabd",
   "metadata": {},
   "outputs": [
    {
     "data": {
      "text/plain": [
       "6.507547825828271"
      ]
     },
     "execution_count": 4,
     "metadata": {},
     "output_type": "execute_result"
    }
   ],
   "source": [
    "avg_degree = sum(dict(G.degree()).values()) / G.number_of_nodes()\n",
    "\n",
    "avg_degree"
   ]
  },
  {
   "cell_type": "code",
   "execution_count": 5,
   "id": "f3b2c577",
   "metadata": {},
   "outputs": [
    {
     "data": {
      "text/plain": [
       "970523"
      ]
     },
     "execution_count": 5,
     "metadata": {},
     "output_type": "execute_result"
    }
   ],
   "source": [
    "PERCENT_THRESHOLD = 0.1\n",
    "\n",
    "degree_threshold = (1 - PERCENT_THRESHOLD) * avg_degree\n",
    "low_degree_nodes = [n for n, degree in G.degree() if degree < degree_threshold]\n",
    "\n",
    "len(low_degree_nodes)"
   ]
  },
  {
   "cell_type": "code",
   "execution_count": 6,
   "id": "3c7d3aa5",
   "metadata": {},
   "outputs": [
    {
     "name": "stdout",
     "output_type": "stream",
     "text": [
      "Approximately 90.224641% nodes are low degree\n"
     ]
    }
   ],
   "source": [
    "print(f\"Approximately {100 * len(low_degree_nodes) / num_nodes:3f}% nodes are low degree\")"
   ]
  },
  {
   "cell_type": "code",
   "execution_count": null,
   "id": "edf0dab4",
   "metadata": {
    "scrolled": true
   },
   "outputs": [],
   "source": [
    "# Group low-degree nodes by a highest-degree parent\n",
    "for node in low_degree_nodes:\n",
    "    neighbors = list(G.neighbors(node))\n",
    "    if len(neighbors) == 0:\n",
    "        continue\n",
    "        \n",
    "    parent = max(neighbors, key=lambda x: G.degree(x))\n",
    "    G = nx.contracted_nodes(G, parent, node, self_loops=False)\n",
    "\n",
    "# Remove self-loops\n",
    "G.remove_edges_from(nx.selfloop_edges(G))\n",
    "\n",
    "nx.write_graphml(G, \"../data/combined_wikilink_with_contracted_deg.graphml\")"
   ]
  },
  {
   "cell_type": "code",
   "execution_count": null,
   "id": "01b9c9d3",
   "metadata": {},
   "outputs": [],
   "source": []
  }
 ],
 "metadata": {
  "kernelspec": {
   "display_name": "Python 3 (ipykernel)",
   "language": "python",
   "name": "python3"
  },
  "language_info": {
   "codemirror_mode": {
    "name": "ipython",
    "version": 3
   },
   "file_extension": ".py",
   "mimetype": "text/x-python",
   "name": "python",
   "nbconvert_exporter": "python",
   "pygments_lexer": "ipython3",
   "version": "3.11.4"
  }
 },
 "nbformat": 4,
 "nbformat_minor": 5
}
